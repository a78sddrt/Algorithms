{
  "nbformat": 4,
  "nbformat_minor": 0,
  "metadata": {
    "colab": {
      "provenance": [],
      "authorship_tag": "ABX9TyO4vKSNRKEZwLeYM49psba1",
      "include_colab_link": true
    },
    "kernelspec": {
      "name": "python3",
      "display_name": "Python 3"
    },
    "language_info": {
      "name": "python"
    }
  },
  "cells": [
    {
      "cell_type": "markdown",
      "metadata": {
        "id": "view-in-github",
        "colab_type": "text"
      },
      "source": [
        "<a href=\"https://colab.research.google.com/github/a78sddrt/Algorithms/blob/main/stockprice_prediction.ipynb\" target=\"_parent\"><img src=\"https://colab.research.google.com/assets/colab-badge.svg\" alt=\"Open In Colab\"/></a>"
      ]
    },
    {
      "cell_type": "code",
      "metadata": {
        "id": "x3_UFNn_h3UN"
      },
      "source": [
        "#Description: This program uses an artificial recurrent neural network called Long Short\n",
        "#             Term Memory(LSTM) to predict the closing stock price of a corporation (Apple Inc.)\n",
        "#             using the past 60 day stock price."
      ],
      "execution_count": null,
      "outputs": []
    },
    {
      "cell_type": "code",
      "metadata": {
        "id": "d-3w8JdXj2dn",
        "outputId": "a194df95-a532-48f6-9ee6-624031f4136e",
        "colab": {
          "base_uri": "https://localhost:8080/",
          "height": 381
        }
      },
      "source": [
        "# import the libraries\n",
        "import math\n",
        "import pandas_datareader as web\n",
        "import fix_yahoo_finance\n",
        "import numpy as np\n",
        "import pandas as pd\n",
        "from sklearn.preprocessing import MinMaxScaler\n",
        "from keras.models import Sequential\n",
        "from keras.layers import Dense, LSTM\n",
        "import matplotlib.pyplot as plt\n",
        "import requests\n",
        "\n",
        "plt.style.use('fivethirtyeight')"
      ],
      "execution_count": null,
      "outputs": [
        {
          "output_type": "error",
          "ename": "ModuleNotFoundError",
          "evalue": "ignored",
          "traceback": [
            "\u001b[0;31m---------------------------------------------------------------------------\u001b[0m",
            "\u001b[0;31mModuleNotFoundError\u001b[0m                       Traceback (most recent call last)",
            "\u001b[0;32m<ipython-input-3-116b8450b194>\u001b[0m in \u001b[0;36m<cell line: 4>\u001b[0;34m()\u001b[0m\n\u001b[1;32m      2\u001b[0m \u001b[0;32mimport\u001b[0m \u001b[0mmath\u001b[0m\u001b[0;34m\u001b[0m\u001b[0;34m\u001b[0m\u001b[0m\n\u001b[1;32m      3\u001b[0m \u001b[0;32mimport\u001b[0m \u001b[0mpandas_datareader\u001b[0m \u001b[0;32mas\u001b[0m \u001b[0mweb\u001b[0m\u001b[0;34m\u001b[0m\u001b[0;34m\u001b[0m\u001b[0m\n\u001b[0;32m----> 4\u001b[0;31m \u001b[0;32mimport\u001b[0m \u001b[0mfix_yahoo_finance\u001b[0m\u001b[0;34m\u001b[0m\u001b[0;34m\u001b[0m\u001b[0m\n\u001b[0m\u001b[1;32m      5\u001b[0m \u001b[0;32mimport\u001b[0m \u001b[0mnumpy\u001b[0m \u001b[0;32mas\u001b[0m \u001b[0mnp\u001b[0m\u001b[0;34m\u001b[0m\u001b[0;34m\u001b[0m\u001b[0m\n\u001b[1;32m      6\u001b[0m \u001b[0;32mimport\u001b[0m \u001b[0mpandas\u001b[0m \u001b[0;32mas\u001b[0m \u001b[0mpd\u001b[0m\u001b[0;34m\u001b[0m\u001b[0;34m\u001b[0m\u001b[0m\n",
            "\u001b[0;31mModuleNotFoundError\u001b[0m: No module named 'fix_yahoo_finance'",
            "",
            "\u001b[0;31m---------------------------------------------------------------------------\u001b[0;32m\nNOTE: If your import is failing due to a missing package, you can\nmanually install dependencies using either !pip or !apt.\n\nTo view examples of installing some common dependencies, click the\n\"Open Examples\" button below.\n\u001b[0;31m---------------------------------------------------------------------------\u001b[0m\n"
          ],
          "errorDetails": {
            "actions": [
              {
                "action": "open_url",
                "actionText": "Open Examples",
                "url": "/notebooks/snippets/importing_libraries.ipynb"
              }
            ]
          }
        }
      ]
    },
    {
      "cell_type": "code",
      "metadata": {
        "id": "v1p2C_0nkyp8",
        "colab": {
          "base_uri": "https://localhost:8080/",
          "height": 450
        },
        "outputId": "2c419101-adc5-4e23-bbb0-37be855de742"
      },
      "source": [
        "#原本發現這裡有錯(見https://stackoverflow.com/questions/68227837/pandas-datareader-not-responding-http-status-404)\n",
        "#解決方案: !pip install --upgrade pandas-datareader\n",
        "#Get the stock quote\n",
        "#Show the data\n",
        "df = web.DataReader('2330.TW', data_source='yahoo', start='2016-01-01', end='2021-8-29')\n",
        "df"
      ],
      "execution_count": null,
      "outputs": [
        {
          "output_type": "execute_result",
          "data": {
            "text/html": [
              "<div>\n",
              "<style scoped>\n",
              "    .dataframe tbody tr th:only-of-type {\n",
              "        vertical-align: middle;\n",
              "    }\n",
              "\n",
              "    .dataframe tbody tr th {\n",
              "        vertical-align: top;\n",
              "    }\n",
              "\n",
              "    .dataframe thead th {\n",
              "        text-align: right;\n",
              "    }\n",
              "</style>\n",
              "<table border=\"1\" class=\"dataframe\">\n",
              "  <thead>\n",
              "    <tr style=\"text-align: right;\">\n",
              "      <th></th>\n",
              "      <th>High</th>\n",
              "      <th>Low</th>\n",
              "      <th>Open</th>\n",
              "      <th>Close</th>\n",
              "      <th>Volume</th>\n",
              "      <th>Adj Close</th>\n",
              "    </tr>\n",
              "    <tr>\n",
              "      <th>Date</th>\n",
              "      <th></th>\n",
              "      <th></th>\n",
              "      <th></th>\n",
              "      <th></th>\n",
              "      <th></th>\n",
              "      <th></th>\n",
              "    </tr>\n",
              "  </thead>\n",
              "  <tbody>\n",
              "    <tr>\n",
              "      <th>2016-01-04</th>\n",
              "      <td>143.5</td>\n",
              "      <td>139.0</td>\n",
              "      <td>142.5</td>\n",
              "      <td>139.5</td>\n",
              "      <td>39169000.0</td>\n",
              "      <td>115.267998</td>\n",
              "    </tr>\n",
              "    <tr>\n",
              "      <th>2016-01-05</th>\n",
              "      <td>140.0</td>\n",
              "      <td>137.0</td>\n",
              "      <td>139.0</td>\n",
              "      <td>138.0</td>\n",
              "      <td>46381000.0</td>\n",
              "      <td>114.028549</td>\n",
              "    </tr>\n",
              "    <tr>\n",
              "      <th>2016-01-06</th>\n",
              "      <td>138.0</td>\n",
              "      <td>135.0</td>\n",
              "      <td>138.0</td>\n",
              "      <td>135.5</td>\n",
              "      <td>53617000.0</td>\n",
              "      <td>111.962807</td>\n",
              "    </tr>\n",
              "    <tr>\n",
              "      <th>2016-01-07</th>\n",
              "      <td>135.0</td>\n",
              "      <td>130.5</td>\n",
              "      <td>134.5</td>\n",
              "      <td>133.0</td>\n",
              "      <td>62539000.0</td>\n",
              "      <td>109.897095</td>\n",
              "    </tr>\n",
              "    <tr>\n",
              "      <th>2016-01-08</th>\n",
              "      <td>135.0</td>\n",
              "      <td>132.0</td>\n",
              "      <td>132.0</td>\n",
              "      <td>134.0</td>\n",
              "      <td>50123000.0</td>\n",
              "      <td>110.723381</td>\n",
              "    </tr>\n",
              "    <tr>\n",
              "      <th>...</th>\n",
              "      <td>...</td>\n",
              "      <td>...</td>\n",
              "      <td>...</td>\n",
              "      <td>...</td>\n",
              "      <td>...</td>\n",
              "      <td>...</td>\n",
              "    </tr>\n",
              "    <tr>\n",
              "      <th>2021-08-23</th>\n",
              "      <td>572.0</td>\n",
              "      <td>559.0</td>\n",
              "      <td>560.0</td>\n",
              "      <td>566.0</td>\n",
              "      <td>33685159.0</td>\n",
              "      <td>566.000000</td>\n",
              "    </tr>\n",
              "    <tr>\n",
              "      <th>2021-08-24</th>\n",
              "      <td>575.0</td>\n",
              "      <td>571.0</td>\n",
              "      <td>574.0</td>\n",
              "      <td>572.0</td>\n",
              "      <td>24844800.0</td>\n",
              "      <td>572.000000</td>\n",
              "    </tr>\n",
              "    <tr>\n",
              "      <th>2021-08-25</th>\n",
              "      <td>585.0</td>\n",
              "      <td>574.0</td>\n",
              "      <td>579.0</td>\n",
              "      <td>585.0</td>\n",
              "      <td>27504657.0</td>\n",
              "      <td>585.000000</td>\n",
              "    </tr>\n",
              "    <tr>\n",
              "      <th>2021-08-26</th>\n",
              "      <td>603.0</td>\n",
              "      <td>591.0</td>\n",
              "      <td>601.0</td>\n",
              "      <td>594.0</td>\n",
              "      <td>43822008.0</td>\n",
              "      <td>594.000000</td>\n",
              "    </tr>\n",
              "    <tr>\n",
              "      <th>2021-08-27</th>\n",
              "      <td>600.0</td>\n",
              "      <td>593.0</td>\n",
              "      <td>596.0</td>\n",
              "      <td>599.0</td>\n",
              "      <td>27105651.0</td>\n",
              "      <td>599.000000</td>\n",
              "    </tr>\n",
              "  </tbody>\n",
              "</table>\n",
              "<p>1375 rows × 6 columns</p>\n",
              "</div>"
            ],
            "text/plain": [
              "             High    Low   Open  Close      Volume   Adj Close\n",
              "Date                                                          \n",
              "2016-01-04  143.5  139.0  142.5  139.5  39169000.0  115.267998\n",
              "2016-01-05  140.0  137.0  139.0  138.0  46381000.0  114.028549\n",
              "2016-01-06  138.0  135.0  138.0  135.5  53617000.0  111.962807\n",
              "2016-01-07  135.0  130.5  134.5  133.0  62539000.0  109.897095\n",
              "2016-01-08  135.0  132.0  132.0  134.0  50123000.0  110.723381\n",
              "...           ...    ...    ...    ...         ...         ...\n",
              "2021-08-23  572.0  559.0  560.0  566.0  33685159.0  566.000000\n",
              "2021-08-24  575.0  571.0  574.0  572.0  24844800.0  572.000000\n",
              "2021-08-25  585.0  574.0  579.0  585.0  27504657.0  585.000000\n",
              "2021-08-26  603.0  591.0  601.0  594.0  43822008.0  594.000000\n",
              "2021-08-27  600.0  593.0  596.0  599.0  27105651.0  599.000000\n",
              "\n",
              "[1375 rows x 6 columns]"
            ]
          },
          "metadata": {},
          "execution_count": 109
        }
      ]
    },
    {
      "cell_type": "code",
      "metadata": {
        "id": "EDbMCU4juHAv"
      },
      "source": [
        "#這是原本想解決上面問題的其中一個想法，但也失敗(沒辦法取得特定時段日期的資料)\n",
        "#Get the stock quote\n",
        "#This is from https://stackoverflow.com/questions/68327968/unable-to-get-stock-data-from-yahoo-with-pandas-datareader\n",
        "#網址直接到yahoo finance找\n",
        "#link = 'https://finance.yahoo.com/quote/0056.TW/history?period1=1598659200&period2=1630195200&interval=1d&filter=history&frequency=1d&includeAdjustedClose=true'\n",
        "#r = requests.get(link, headers = {'User-Agent':'Mozilla/5.0 (Windows NT 10.0; Win64; x64) AppleWebKit/537.36 (KHTML, like Gecko) Chrome/91.0.4472.124 Safari/537.36'})\n",
        "#pandas_data = pd.read_html(r.text)\n",
        "#pandas_data"
      ],
      "execution_count": null,
      "outputs": []
    },
    {
      "cell_type": "code",
      "metadata": {
        "colab": {
          "base_uri": "https://localhost:8080/"
        },
        "id": "4D7k2SBd42ez",
        "outputId": "91c309d6-c55a-4fbe-9e1b-10e38436c403"
      },
      "source": [
        "#Get the number of rows and columns in the data set\n",
        "df.shape"
      ],
      "execution_count": null,
      "outputs": [
        {
          "output_type": "execute_result",
          "data": {
            "text/plain": [
              "(1375, 6)"
            ]
          },
          "metadata": {},
          "execution_count": 111
        }
      ]
    },
    {
      "cell_type": "code",
      "metadata": {
        "colab": {
          "base_uri": "https://localhost:8080/",
          "height": 558
        },
        "id": "7Qdv7H1m5Xlf",
        "outputId": "52644236-7338-48ca-f883-3d82c399a2d9"
      },
      "source": [
        "#Visualize the closing price history\n",
        "plt.figure(figsize=(16,8))\n",
        "plt.title('Close Price History')\n",
        "plt.plot(df['Close'])\n",
        "plt.xlabel('Date',fontsize=18)\n",
        "plt.ylabel('Close Price TWD', fontsize=18)\n",
        "plt.show()\n"
      ],
      "execution_count": null,
      "outputs": [
        {
          "output_type": "display_data",
          "data": {
            "image/png": "[encoded data removed]",
            "text/plain": [
              "<Figure size 1152x576 with 1 Axes>"
            ]
          },
          "metadata": {}
        }
      ]
    },
    {
      "cell_type": "code",
      "metadata": {
        "colab": {
          "base_uri": "https://localhost:8080/"
        },
        "id": "bg2B3y5X7BR4",
        "outputId": "7af6a807-27c2-4dbb-89fa-dd90aae7a5e9"
      },
      "source": [
        "#Create a new dataframe with only the 'Close colume'\n",
        "data=df.filter(['Close'])\n",
        "#Convert the dataframe to a numpy array\n",
        "dataset=data.values\n",
        "#Get the number of rows to trains the model on\n",
        "#Use 80% data to train\n",
        "training_data_len=math.ceil(len(dataset)* .8)\n",
        "\n",
        "training_data_len"
      ],
      "execution_count": null,
      "outputs": [
        {
          "output_type": "execute_result",
          "data": {
            "text/plain": [
              "1100"
            ]
          },
          "metadata": {},
          "execution_count": 113
        }
      ]
    },
    {
      "cell_type": "code",
      "metadata": {
        "colab": {
          "base_uri": "https://localhost:8080/"
        },
        "id": "Lveobxoo83OK",
        "outputId": "a4c5f484-5ab1-4cbd-a34a-e724b83c4e04"
      },
      "source": [
        "#Scale the data\n",
        "scalar = MinMaxScaler(feature_range=(0,1))\n",
        "scaled_data = scalar.fit_transform(dataset)\n",
        "\n",
        "scaled_data"
      ],
      "execution_count": null,
      "outputs": [
        {
          "output_type": "execute_result",
          "data": {
            "text/plain": [
              "array([[0.01477378],\n",
              "       [0.01200369],\n",
              "       [0.00738689],\n",
              "       ...,\n",
              "       [0.83748846],\n",
              "       [0.85410896],\n",
              "       [0.86334257]])"
            ]
          },
          "metadata": {},
          "execution_count": 114
        }
      ]
    },
    {
      "cell_type": "code",
      "metadata": {
        "colab": {
          "base_uri": "https://localhost:8080/"
        },
        "id": "g7L2SVvz8vv2",
        "outputId": "2cc83d30-7dac-4f1c-db74-887908eb5c32"
      },
      "source": [
        "#Create the training data set\n",
        "#Create the scaled training data set\n",
        "train_data = scaled_data[0:training_data_len, :]\n",
        "\n",
        "#Split the data into x_train and y_train data sets\n",
        "x_train = []\n",
        "y_train = []\n",
        "\n",
        "for i in range(60, len(train_data)):\n",
        "  x_train.append(train_data[i-60:i, 0])\n",
        "  y_train.append(train_data[i,0])\n",
        "  if i<=61:\n",
        "    print(x_train)\n",
        "    print(y_train)\n",
        "    print()"
      ],
      "execution_count": null,
      "outputs": [
        {
          "output_type": "stream",
          "text": [
            "[array([0.01477378, 0.01200369, 0.00738689, 0.00277008, 0.00461681,\n",
            "       0.00277008, 0.00277008, 0.00369344, 0.        , 0.01015697,\n",
            "       0.01015697, 0.01200369, 0.00554017, 0.00646353, 0.01292705,\n",
            "       0.01477378, 0.01108033, 0.01477378, 0.01569714, 0.0212373 ,\n",
            "       0.02308403, 0.02031394, 0.02677747, 0.02493075, 0.02954755,\n",
            "       0.03047091, 0.03601108, 0.03601108, 0.03601108, 0.033241  ,\n",
            "       0.03047091, 0.03508772, 0.03231764, 0.0378578 , 0.03970452,\n",
            "       0.04155125, 0.03878116, 0.0378578 , 0.0378578 , 0.03970452,\n",
            "       0.04247461, 0.04339797, 0.04524469, 0.04247461, 0.04524469,\n",
            "       0.0498615 , 0.05170822, 0.05263158, 0.0498615 , 0.05170822,\n",
            "       0.0498615 , 0.04893813, 0.05078486, 0.05078486, 0.05540166,\n",
            "       0.05632502, 0.0498615 , 0.04062789, 0.04247461, 0.04801477])]\n",
            "[0.04986149584487534]\n",
            "\n",
            "[array([0.01477378, 0.01200369, 0.00738689, 0.00277008, 0.00461681,\n",
            "       0.00277008, 0.00277008, 0.00369344, 0.        , 0.01015697,\n",
            "       0.01015697, 0.01200369, 0.00554017, 0.00646353, 0.01292705,\n",
            "       0.01477378, 0.01108033, 0.01477378, 0.01569714, 0.0212373 ,\n",
            "       0.02308403, 0.02031394, 0.02677747, 0.02493075, 0.02954755,\n",
            "       0.03047091, 0.03601108, 0.03601108, 0.03601108, 0.033241  ,\n",
            "       0.03047091, 0.03508772, 0.03231764, 0.0378578 , 0.03970452,\n",
            "       0.04155125, 0.03878116, 0.0378578 , 0.0378578 , 0.03970452,\n",
            "       0.04247461, 0.04339797, 0.04524469, 0.04247461, 0.04524469,\n",
            "       0.0498615 , 0.05170822, 0.05263158, 0.0498615 , 0.05170822,\n",
            "       0.0498615 , 0.04893813, 0.05078486, 0.05078486, 0.05540166,\n",
            "       0.05632502, 0.0498615 , 0.04062789, 0.04247461, 0.04801477]), array([0.01200369, 0.00738689, 0.00277008, 0.00461681, 0.00277008,\n",
            "       0.00277008, 0.00369344, 0.        , 0.01015697, 0.01015697,\n",
            "       0.01200369, 0.00554017, 0.00646353, 0.01292705, 0.01477378,\n",
            "       0.01108033, 0.01477378, 0.01569714, 0.0212373 , 0.02308403,\n",
            "       0.02031394, 0.02677747, 0.02493075, 0.02954755, 0.03047091,\n",
            "       0.03601108, 0.03601108, 0.03601108, 0.033241  , 0.03047091,\n",
            "       0.03508772, 0.03231764, 0.0378578 , 0.03970452, 0.04155125,\n",
            "       0.03878116, 0.0378578 , 0.0378578 , 0.03970452, 0.04247461,\n",
            "       0.04339797, 0.04524469, 0.04247461, 0.04524469, 0.0498615 ,\n",
            "       0.05170822, 0.05263158, 0.0498615 , 0.05170822, 0.0498615 ,\n",
            "       0.04893813, 0.05078486, 0.05078486, 0.05540166, 0.05632502,\n",
            "       0.0498615 , 0.04062789, 0.04247461, 0.04801477, 0.0498615 ])]\n",
            "[0.04986149584487534, 0.04986149584487534]\n",
            "\n"
          ],
          "name": "stdout"
        }
      ]
    },
    {
      "cell_type": "code",
      "metadata": {
        "id": "HKAqZng6_eji"
      },
      "source": [
        "#Convert the x_train and y_train to numpy arrays\n",
        "x_train, y_train = np.array(x_train), np.array(y_train)\n",
        "\n",
        "#Reshape the data\n",
        "x_train = np.reshape(x_train, (x_train.shape[0], x_train.shape[1],1))"
      ],
      "execution_count": null,
      "outputs": []
    },
    {
      "cell_type": "code",
      "metadata": {
        "id": "VWgoAUI7AaaW"
      },
      "source": [
        "#Build the LSTM model\n",
        "model = Sequential()\n",
        "model.add(LSTM(50, return_sequences= True, input_shape =(x_train.shape[1], 1)))\n",
        "model.add(LSTM(50, return_sequences= False))\n",
        "model.add(Dense(25))\n",
        "model.add(Dense(1))"
      ],
      "execution_count": null,
      "outputs": []
    },
    {
      "cell_type": "code",
      "metadata": {
        "id": "CWk5KDKJBYhz"
      },
      "source": [
        "#Compile the model\n",
        "model.compile(optimizer='adam', loss='mean_squared_error')"
      ],
      "execution_count": null,
      "outputs": []
    },
    {
      "cell_type": "code",
      "metadata": {
        "colab": {
          "base_uri": "https://localhost:8080/"
        },
        "id": "jACqZU8gBqd7",
        "outputId": "5980ddd8-1614-4a6f-d88c-6e60259e4204"
      },
      "source": [
        "#Train the model\n",
        "model.fit(x_train, y_train, batch_size=1, epochs=1)"
      ],
      "execution_count": null,
      "outputs": [
        {
          "output_type": "stream",
          "text": [
            "1040/1040 [==============================] - 35s 31ms/step - loss: 5.4044e-04\n"
          ],
          "name": "stdout"
        },
        {
          "output_type": "execute_result",
          "data": {
            "text/plain": [
              "<keras.callbacks.History at 0x7fa7ab9e0350>"
            ]
          },
          "metadata": {},
          "execution_count": 119
        }
      ]
    },
    {
      "cell_type": "code",
      "metadata": {
        "id": "7gnLH2O7DBWT"
      },
      "source": [
        "#Create the testing data set\n",
        "#Create a new array containing scaled values from index 1892 to 2365\n",
        "test_data = scaled_data[training_data_len - 60: , :]\n",
        "#Create the data sets x_test and y_test\n",
        "x_test = []\n",
        "y_test = dataset[training_data_len:, :]\n",
        "for i in range(60, len(test_data)):\n",
        "  x_test.append(test_data[i-60:i, 0])\n"
      ],
      "execution_count": null,
      "outputs": []
    },
    {
      "cell_type": "code",
      "metadata": {
        "colab": {
          "base_uri": "https://localhost:8080/"
        },
        "id": "eLB-qzDzEObU",
        "outputId": "882f3041-b0bf-48af-86f3-aeb3ce4f7460"
      },
      "source": [
        "#Convert the data to a numpy array\n",
        "x_test = np.array(x_test)\n",
        "x_test.shape"
      ],
      "execution_count": null,
      "outputs": [
        {
          "output_type": "execute_result",
          "data": {
            "text/plain": [
              "(275, 60)"
            ]
          },
          "metadata": {},
          "execution_count": 121
        }
      ]
    },
    {
      "cell_type": "code",
      "metadata": {
        "id": "3mTQ6AvdEUXT"
      },
      "source": [
        "#Reshape the data\n",
        "x_test = np.reshape(x_test, (x_test.shape[0], x_test.shape[1], 1))\n"
      ],
      "execution_count": null,
      "outputs": []
    },
    {
      "cell_type": "code",
      "metadata": {
        "id": "dmzT1gWXF8L4"
      },
      "source": [
        "#Get the models predicted price values\n",
        "predictions = model.predict(x_test)\n",
        "predictions = scalar.inverse_transform(predictions)"
      ],
      "execution_count": null,
      "outputs": []
    },
    {
      "cell_type": "code",
      "metadata": {
        "colab": {
          "base_uri": "https://localhost:8080/"
        },
        "id": "53M-u_y7GWnj",
        "outputId": "83a8c115-7ab2-4d95-89ae-57405434282c"
      },
      "source": [
        "#Get the root mean squared error (RMSE)\n",
        "rmse = np.sqrt(np.mean( predictions - y_test)**2)\n",
        "rmse"
      ],
      "execution_count": null,
      "outputs": [
        {
          "output_type": "execute_result",
          "data": {
            "text/plain": [
              "5.933833229758522"
            ]
          },
          "metadata": {},
          "execution_count": 124
        }
      ]
    },
    {
      "cell_type": "code",
      "metadata": {
        "colab": {
          "base_uri": "https://localhost:8080/"
        },
        "id": "eFEUQaZvG7Gm",
        "outputId": "91e08ffa-3aa7-416f-ea87-a822fcb3d18b"
      },
      "source": [
        "#Plot the data\n",
        "train = data[:training_data_len]\n",
        "valid = data[training_data_len:]\n",
        "valid['Predictions']= predictions\n",
        "#Visualize the data\n",
        "plt.figure(figsize=(16,8))\n",
        "plt.title('Model')\n",
        "plt.xlabel('Date', fontsize=18)\n",
        "plt.ylabel('Close Price TWD', fontsize=18)\n",
        "plt.plot(train['Close'])\n",
        "plt.plot(valid[['Close', 'Predictions']])\n",
        "plt.legend(['Train', 'Val', 'Predictions'], loc='lower right')\n",
        "plt.show()"
      ],
      "execution_count": null,
      "outputs": [
        {
          "output_type": "stream",
          "text": [
            "/usr/local/lib/python3.7/dist-packages/ipykernel_launcher.py:4: SettingWithCopyWarning: \n",
            "A value is trying to be set on a copy of a slice from a DataFrame.\n",
            "Try using .loc[row_indexer,col_indexer] = value instead\n",
            "\n",
            "See the caveats in the documentation: https://pandas.pydata.org/pandas-docs/stable/user_guide/indexing.html#returning-a-view-versus-a-copy\n",
            "  after removing the cwd from sys.path.\n"
          ],
          "name": "stderr"
        },
        {
          "output_type": "display_data",
          "data": {
            "image/png": "[encoded data removed]",
            "text/plain": [
              "<Figure size 1152x576 with 1 Axes>"
            ]
          },
          "metadata": {}
        }
      ]
    },
    {
      "cell_type": "code",
      "metadata": {
        "colab": {
          "base_uri": "https://localhost:8080/",
          "height": 708
        },
        "id": "g7WYGBS2IrZ1",
        "outputId": "dc0f4a6a-51b8-4e76-ba0d-7463e3ae0909"
      },
      "source": [
        "#Show the valid and predicted prices\n",
        "valid"
      ],
      "execution_count": null,
      "outputs": [
        {
          "output_type": "execute_result",
          "data": {
            "text/html": [
              "<div>\n",
              "<style scoped>\n",
              "    .dataframe tbody tr th:only-of-type {\n",
              "        vertical-align: middle;\n",
              "    }\n",
              "\n",
              "    .dataframe tbody tr th {\n",
              "        vertical-align: top;\n",
              "    }\n",
              "\n",
              "    .dataframe thead th {\n",
              "        text-align: right;\n",
              "    }\n",
              "</style>\n",
              "<table border=\"1\" class=\"dataframe\">\n",
              "  <thead>\n",
              "    <tr style=\"text-align: right;\">\n",
              "      <th></th>\n",
              "      <th>Close</th>\n",
              "      <th>Predictions</th>\n",
              "    </tr>\n",
              "    <tr>\n",
              "      <th>Date</th>\n",
              "      <th></th>\n",
              "      <th></th>\n",
              "    </tr>\n",
              "  </thead>\n",
              "  <tbody>\n",
              "    <tr>\n",
              "      <th>2020-07-16</th>\n",
              "      <td>357.5</td>\n",
              "      <td>353.173950</td>\n",
              "    </tr>\n",
              "    <tr>\n",
              "      <th>2020-07-17</th>\n",
              "      <td>367.0</td>\n",
              "      <td>356.213989</td>\n",
              "    </tr>\n",
              "    <tr>\n",
              "      <th>2020-07-20</th>\n",
              "      <td>366.0</td>\n",
              "      <td>359.354004</td>\n",
              "    </tr>\n",
              "    <tr>\n",
              "      <th>2020-07-21</th>\n",
              "      <td>383.0</td>\n",
              "      <td>362.046936</td>\n",
              "    </tr>\n",
              "    <tr>\n",
              "      <th>2020-07-22</th>\n",
              "      <td>384.0</td>\n",
              "      <td>366.117218</td>\n",
              "    </tr>\n",
              "    <tr>\n",
              "      <th>...</th>\n",
              "      <td>...</td>\n",
              "      <td>...</td>\n",
              "    </tr>\n",
              "    <tr>\n",
              "      <th>2021-08-23</th>\n",
              "      <td>566.0</td>\n",
              "      <td>570.743286</td>\n",
              "    </tr>\n",
              "    <tr>\n",
              "      <th>2021-08-24</th>\n",
              "      <td>572.0</td>\n",
              "      <td>567.338379</td>\n",
              "    </tr>\n",
              "    <tr>\n",
              "      <th>2021-08-25</th>\n",
              "      <td>585.0</td>\n",
              "      <td>565.859131</td>\n",
              "    </tr>\n",
              "    <tr>\n",
              "      <th>2021-08-26</th>\n",
              "      <td>594.0</td>\n",
              "      <td>567.049744</td>\n",
              "    </tr>\n",
              "    <tr>\n",
              "      <th>2021-08-27</th>\n",
              "      <td>599.0</td>\n",
              "      <td>570.421265</td>\n",
              "    </tr>\n",
              "  </tbody>\n",
              "</table>\n",
              "<p>275 rows × 2 columns</p>\n",
              "</div>"
            ],
            "text/plain": [
              "            Close  Predictions\n",
              "Date                          \n",
              "2020-07-16  357.5   353.173950\n",
              "2020-07-17  367.0   356.213989\n",
              "2020-07-20  366.0   359.354004\n",
              "2020-07-21  383.0   362.046936\n",
              "2020-07-22  384.0   366.117218\n",
              "...           ...          ...\n",
              "2021-08-23  566.0   570.743286\n",
              "2021-08-24  572.0   567.338379\n",
              "2021-08-25  585.0   565.859131\n",
              "2021-08-26  594.0   567.049744\n",
              "2021-08-27  599.0   570.421265\n",
              "\n",
              "[275 rows x 2 columns]"
            ]
          },
          "metadata": {},
          "execution_count": 126
        }
      ]
    },
    {
      "cell_type": "code",
      "metadata": {
        "colab": {
          "base_uri": "https://localhost:8080/"
        },
        "id": "JwHNg9AXI_Te",
        "outputId": "811442f4-26a3-4ea8-d10f-e5d36d86dbac"
      },
      "source": [
        "#Get the quote\n",
        "quote = web.DataReader('2330.TW', data_source='yahoo', start='2016-01-01', end='2021-8-29')\n",
        "#Create a new dataframe\n",
        "new_df = quote.filter(['Close'])\n",
        "#Get the last 60 day closing price values and convert the dataframe to an array\n",
        "last_60_days = new_df[-60:].values\n",
        "#Scale the data to be values between 0 and 1\n",
        "last_60_days_scaled = scalar.transform(last_60_days)\n",
        "#Create an empty list\n",
        "X_test = []\n",
        "#Append the past 60 days\n",
        "X_test.append(last_60_days_scaled)\n",
        "#Convert the X_data set to a numpy array\n",
        "X_test = np.array(X_test)\n",
        "#Reshape the data\n",
        "X_test = np.reshape(X_test, (X_test.shape[0], X_test.shape[1],1))\n",
        "#Get the predicted scaled price\n",
        "pred_price = model.predict(X_test)\n",
        "#undo the scaling\n",
        "pred_price = scalar.inverse_transform(pred_price)\n",
        "print(pred_price)"
      ],
      "execution_count": null,
      "outputs": [
        {
          "output_type": "stream",
          "text": [
            "[[575.00684]]\n"
          ],
          "name": "stdout"
        }
      ]
    }
  ]
}